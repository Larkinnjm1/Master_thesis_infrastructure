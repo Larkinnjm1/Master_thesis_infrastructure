{
 "cells": [
  {
   "cell_type": "code",
   "execution_count": 22,
   "metadata": {},
   "outputs": [],
   "source": [
    "import os\n",
    "import pandas as pd\n",
    "import numpy as np\n",
    "import re\n",
    "from shutil import copyfile"
   ]
  },
  {
   "cell_type": "code",
   "execution_count": null,
   "metadata": {},
   "outputs": [],
   "source": [
    "imgs_modes=['t1dual','t2spir','inphase','outphase','dicom_anon','ground','source']\n",
    "src_dir=''\n",
    "pair_keyword=[]\n",
    "dst_grnd_path=''\n",
    "dst_img_path=''\n",
    "grnd_sub_repl_tple_dict={}\n",
    "src_sub_repl_tple_dict={}"
   ]
  },
  {
   "cell_type": "code",
   "execution_count": null,
   "metadata": {},
   "outputs": [],
   "source": [
    "#Renaming pipeline\n",
    "\n",
    "file_dict=gen_img_fileset_dict(src_dir,imgs_modes,key_word_sp=1)\n",
    "\n",
    "file_tuple_lst=gen_file_tpl_set_lists(file_dict,pair_keyword)\n",
    "\n",
    "for vals in file_tuple_lst:\n",
    "    \n",
    "    rename_file_set_for_segmentation(vals,\n",
    "                                         grnd_sub_repl_tple_dict,\n",
    "                                        src_sub_repl_tple_dict,\n",
    "                                         dst_grnd_path,\n",
    "                                        dst_img_path)"
   ]
  },
  {
   "cell_type": "code",
   "execution_count": 21,
   "metadata": {},
   "outputs": [],
   "source": [
    "def gen_img_fileset_dict(src_dir,imgs_modes,key_word_sp=1):\n",
    "    \"\"\"The purpose of this method is to evaluate an estimation \"\"\"\n",
    "    file_dict={}\n",
    "    for subdir,root,files in os.walk(src_dir):\n",
    "        print(subdir)\n",
    "\n",
    "        if len(files)!=0:\n",
    "            gt_img_name=[]\n",
    "            gt_img_name=[''.join(x) for x in imgs_modes if x in subdir.lower()]\n",
    "            #If two categories \n",
    "            if len(gt_img_name)>=key_word_sp:\n",
    "\n",
    "                tmp_file_lst=[os.path.join(subdir,file) for file in files]\n",
    "                seperator = '_'\n",
    "                seperator =seperator.join(gt_img_name)\n",
    "                file_dict[seperator]=sorted(tmp_file_lst)\n",
    "    #Sett original name for analysis and munging\n",
    "    return file_dict"
   ]
  },
  {
   "cell_type": "markdown",
   "metadata": {},
   "source": [
    "File name 1 T1Dual inphase:\n",
    "1.\tPat_10_t1dual_ground_slice_no_10_512x512.png\n",
    "2.\tPat_10_t1dual_inphase_slice_no_10_512x512_grey_lvl_256.png\n",
    "File name 2 T1Dual  outphase:\n",
    "1.\tPat_10_t1dual_ground_slice_no_10_512x512.png\n",
    "2.\tPat_10_t1dual_outphase_slice_no_10_512x512_grey_lvl_256.png\n",
    "File name 3 T2SPIR\n",
    "1.\tPat_10_t2spir_slice_no_10_512x512_grey_lvl_256.png\n",
    "2.\tPat_10_t2spir_ground_slice_no_10_512x512.png\n"
   ]
  },
  {
   "cell_type": "code",
   "execution_count": 24,
   "metadata": {},
   "outputs": [],
   "source": [
    "def gen_file_tpl_set_lists(file_dict:dict,pair_keyword: list)->list:\n",
    "    \"\"\"The purpose of this method is to generate keyword base file tuple sets\"\"\"\n",
    "    #final list to return list\n",
    "    rtrn_lst=[]\n",
    "    #Creating list of keys to iterate through \n",
    "    file_sets=list(file_dict.keys()) \n",
    "    \n",
    "    for key in pair_keyword:\n",
    "        #Get main image set initially b yimage type i.e. t1dual\n",
    "        img_type_lst=[x for x in file_sets if x.lower().find(key[0])!=-1]\n",
    "        #Getting the ground key\n",
    "        img_grnd_key=[x for x in img_type_lst if x.lower().find(key[1])!=-1]\n",
    "        #Getting non ground by removing that value from the list \n",
    "        img_keys=img_type_lst.remove(img_grnd_key[0])\n",
    "        #Generating file list tuple pairs for anaylysis\n",
    "        if len(img_keys)>1:\n",
    "            file_pair=[zip(file_dict[img_key],file_dict[img_grnd_key]) for img_key in img_keys]\n",
    "            \n",
    "        else:\n",
    "            file_pair=[zip(file_dict[img_keys],file_dict[img_grnd_key])]\n",
    "            \n",
    "        for tpl_vals in file_pair:\n",
    "            rtrn_lst.append(tpl_vals)\n",
    "            \n",
    "    return rtrn_lst\n"
   ]
  },
  {
   "cell_type": "code",
   "execution_count": 25,
   "metadata": {},
   "outputs": [],
   "source": [
    "def repl_sub_string(str_val:str,str_rep_dict:dict):\n",
    "    \"\"\"The purpose of this method is to itertivley replace substrings in a string with other values\"\"\"\n",
    "    \n",
    "    # Add escape characters to string keys for regex estimation\n",
    "    rep = dict((re.escape(k), v) for k, v in str_rep_dict.items()) \n",
    "    #Python 3 renamed dict.iteritems to dict.items so use rep.items() for latest versions\n",
    "    pattern = re.compile(\"|\".join(str_rep_dict.keys()))\n",
    "    \n",
    "    return pattern.sub(lambda m: rep[re.escape(m.group(0))],str_val)"
   ]
  },
  {
   "cell_type": "code",
   "execution_count": 26,
   "metadata": {},
   "outputs": [],
   "source": [
    "def rename_file_set_for_segmentation(file_set_list_tuple:list,\n",
    "                                     grnd_sub_repl_tple_dict:dict,\n",
    "                                    src_sub_repl_tple_dict:dict,\n",
    "                                     dst_grnd_path:str,\n",
    "                                    dst_img_path:str):\n",
    "    \"\"\"The purpose of this method is to detail how \"\"\"\n",
    "    \n",
    "    \n",
    "    for grnd_nm_path,img_nm_path in file_set_list_tuple:\n",
    "        \n",
    "        grnd_nm=os.path.basename(grnd_nm_path)\n",
    "        img_nm=os.path.basename(img_nm_path)\n",
    "        \n",
    "        strp_grnd_nm=repl_sub_string(grnd_nm,grnd_sub_repl_tple_dict)\n",
    "        strp_img_nm=repl_sub_string(img_nm,src_sub_repl_tple_dict)\n",
    "        \n",
    "        dst_grnd_path=os.path.join(dst_grnd_path,strp_grnd_nm)\n",
    "        dst_img_path=os.path.join(dst_img_path,strp_img_nm)\n",
    "        \n",
    "        copyfile(grnd_nm_path, dst_grnd_path)\n",
    "        copyfile(img_nm_path,dst_img_path)"
   ]
  },
  {
   "cell_type": "code",
   "execution_count": null,
   "metadata": {},
   "outputs": [],
   "source": []
  }
 ],
 "metadata": {
  "kernelspec": {
   "display_name": "Python 3",
   "language": "python",
   "name": "python3"
  },
  "language_info": {
   "codemirror_mode": {
    "name": "ipython",
    "version": 3
   },
   "file_extension": ".py",
   "mimetype": "text/x-python",
   "name": "python",
   "nbconvert_exporter": "python",
   "pygments_lexer": "ipython3",
   "version": "3.7.3"
  }
 },
 "nbformat": 4,
 "nbformat_minor": 2
}
